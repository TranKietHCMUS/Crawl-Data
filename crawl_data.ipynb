{
 "cells": [
  {
   "cell_type": "markdown",
   "metadata": {},
   "source": [
    "**Data field**\n"
   ]
  },
  {
   "cell_type": "code",
   "execution_count": 37,
   "metadata": {},
   "outputs": [],
   "source": [
    "import requests\n",
    "import bs4\n",
    "import json\n",
    "import sys\n",
    "import psycopg2\n",
    "import logging\n"
   ]
  },
  {
   "cell_type": "markdown",
   "metadata": {},
   "source": [
    "## Get date from json file\n"
   ]
  },
  {
   "cell_type": "code",
   "execution_count": 38,
   "metadata": {},
   "outputs": [],
   "source": [
    "fjs = open(\"info.json\", \"r\")\n",
    "data_dict = json.load(fjs)\n",
    "fjs.close()\n",
    "\n",
    "fps = open(\"password.txt\", \"r\")\n",
    "pw = fps.read()\n",
    "fps.close()\n",
    "\n",
    "data_field = data_dict[\"event\"][\"data_field\"]\n",
    "url = data_dict[\"event\"][\"url\"]\n",
    "table_name = data_dict[\"event\"][\"table_name\"]"
   ]
  },
  {
   "cell_type": "markdown",
   "metadata": {},
   "source": [
    "## Connect to Database\n"
   ]
  },
  {
   "cell_type": "code",
   "execution_count": 39,
   "metadata": {},
   "outputs": [
    {
     "name": "stdout",
     "output_type": "stream",
     "text": [
      "INFO:root:connection log: <connection object at 0x000002324459F150; dsn: 'user=postgres password=xxx dbname=postgres host=localhost', closed: 0>\n"
     ]
    }
   ],
   "source": [
    "logging.basicConfig(stream=sys.stdout, level=logging.DEBUG)\n",
    "logger = logging.getLogger()\n",
    "logger.setLevel(logging.INFO)\n",
    "\n",
    "def create_connection():\n",
    "    connection = psycopg2.connect(\n",
    "        host=data_dict[\"host\"],\n",
    "        database=data_dict[\"database\"],\n",
    "        user=data_dict[\"user\"],\n",
    "        password=pw\n",
    "    )\n",
    "    connection.set_session(autocommit=True)\n",
    "    return connection\n",
    "\n",
    "connection = create_connection()\n",
    "logger.info(f\"connection log: {connection}\")"
   ]
  },
  {
   "cell_type": "markdown",
   "metadata": {},
   "source": [
    "## Create the table in database\n"
   ]
  },
  {
   "cell_type": "code",
   "execution_count": 40,
   "metadata": {},
   "outputs": [
    {
     "name": "stdout",
     "output_type": "stream",
     "text": [
      "INFO:root:Start create table comic_web_data\n"
     ]
    }
   ],
   "source": [
    "def create_table(connection, table_name, data_field):\n",
    "    logger.info(f\"Start create table {table_name}\")\n",
    "    list_field_name_field_type = [f'{field[\"field\"]} {field[\"type\"]}' for field in data_field] \n",
    "    result_field_name_field_type = ','.join(list_field_name_field_type)\n",
    "\n",
    "    create_table_str = f\"\"\"\n",
    "        create table if not exists {table_name} (\n",
    "            {result_field_name_field_type}\n",
    "        )\n",
    "    \"\"\" # tạo string kiểu <tên cột> <kiểu dữ liệu> để tạo bảng trong DBMS\n",
    "\n",
    "    cursor = connection.cursor() # tạo con trỏ tới DBMS\n",
    "    cursor.execute(create_table_str) # thực thi tạo bảng trong DBMS\n",
    "\n",
    "create_table(connection, table_name, data_field)"
   ]
  },
  {
   "cell_type": "markdown",
   "metadata": {},
   "source": [
    "## Crawl Data\n"
   ]
  },
  {
   "cell_type": "code",
   "execution_count": 41,
   "metadata": {},
   "outputs": [
    {
     "name": "stdout",
     "output_type": "stream",
     "text": [
      "16\n",
      "{'id': '1', 'story_link': 'https://truyenmoi.org/truyen-bach-luyen-thanh-than', 'poster_image_link': 'https://truyenmoi.org/images/thumb129/bach-luyen-thanh-than-1616536478.jpg', 'story_name': 'Bách Luyện Thành Thần'}\n",
      "{'id': '2', 'story_link': 'https://truyenmoi.org/vu-luyen-dien-phong', 'poster_image_link': 'https://truyenmoi.org/images/thumb129/vu-luyen-dien-phong-1616873103.jpg', 'story_name': 'Võ Luyện Đỉnh Phong'}\n",
      "{'id': '3', 'story_link': 'https://truyenmoi.org/vo-than-chua-te', 'poster_image_link': 'https://truyenmoi.org/images/thumb129/vo-than-chua-te-1616940080.jpg', 'story_name': 'Võ Thần Chúa Tể'}\n",
      "{'id': '4', 'story_link': 'https://truyenmoi.org/vo-thuong-than-de', 'poster_image_link': 'https://truyenmoi.org/images/thumb129/vo-thuong-than-de-1617174241.jpg', 'story_name': 'Vô Thượng Thần Đế'}\n",
      "{'id': '5', 'story_link': 'https://truyenmoi.org/phong-than-chau', 'poster_image_link': 'https://truyenmoi.org/images/thumb129/phong-than-chau-1626670616.jpg', 'story_name': 'Phong Thần Châu'}\n",
      "{'id': '6', 'story_link': 'https://truyenmoi.org/cung-chieu-co-vo-quan-nhan-100058', 'poster_image_link': 'https://truyenmoi.org/images/thumb129/cung-chieu-co-vo-quan-nhan-1620470550.jpg', 'story_name': 'Cưng Chiều Cô Vợ Quân Nhân'}\n",
      "{'id': '7', 'story_link': 'https://truyenmoi.org/than-dao-de-ton', 'poster_image_link': 'https://truyenmoi.org/images/thumb129/than-dao-de-ton-1644299522.jpg', 'story_name': 'Thần Đạo Đế Tôn'}\n",
      "{'id': '8', 'story_link': 'https://truyenmoi.org/sieu-cap-cung-chieu-276256', 'poster_image_link': 'https://truyenmoi.org/images/thumb129/sieu-cap-cung-chieu-1640439045.jpg', 'story_name': 'Siêu Cấp Cưng Chiều'}\n",
      "{'id': '9', 'story_link': 'https://truyenmoi.org/nguoi-dau-yeu-429233', 'poster_image_link': 'https://truyenmoi.org/images/thumb129/nguoi-dau-yeu-1629204095.jpg', 'story_name': 'Người Dấu Yêu Ơi'}\n",
      "{'id': '10', 'story_link': 'https://truyenmoi.org/than-dao-dan-ton', 'poster_image_link': 'https://truyenmoi.org/images/thumb129/than-dao-dan-ton-1615875254.jpg', 'story_name': 'Thần Đạo Đan Tôn'}\n",
      "{'id': '11', 'story_link': 'https://truyenmoi.org/ta-de-trien-sung-than-y-cuu-tieu-thu', 'poster_image_link': 'https://truyenmoi.org/images/thumb129/ta-de-trien-sung-than-y-cuu-tieu-thu-1638720760.jpg', 'story_name': 'Tà Đế Triền Sủng: Thần Y Cửu Tiểu Thư'}\n",
      "{'id': '12', 'story_link': 'https://truyenmoi.org/van-co-than-de', 'poster_image_link': 'https://truyenmoi.org/images/thumb129/van-co-than-de-1621637161.jpg', 'story_name': 'Vạn Cổ Thần Đế'}\n",
      "{'id': '13', 'story_link': 'https://truyenmoi.org/con-duong-ba-chu', 'poster_image_link': 'https://truyenmoi.org/images/thumb129/con-duong-ba-chu-1622509538.jpg', 'story_name': 'Con Đường Bá Chủ'}\n",
      "{'id': '14', 'story_link': 'https://truyenmoi.org/tien-vo-de-ton', 'poster_image_link': 'https://truyenmoi.org/images/thumb129/tien-vo-de-ton-1630726332.jpg', 'story_name': 'Tiên Võ Đế Tôn'}\n",
      "{'id': '15', 'story_link': 'https://truyenmoi.org/toan-chuc-phap-su', 'poster_image_link': 'https://truyenmoi.org/images/thumb129/toan-chuc-phap-su-1615398912.jpg', 'story_name': 'Toàn Chức Pháp Sư'}\n",
      "{'id': '16', 'story_link': 'https://truyenmoi.org/linh-kiem-ton', 'poster_image_link': 'https://truyenmoi.org/images/thumb129/linh-kiem-ton-1615397035.jpg', 'story_name': 'Linh Kiếm Tôn'}\n"
     ]
    }
   ],
   "source": [
    "total_stories = []\n",
    "\n",
    "info = requests.get(url, headers={})\n",
    "\n",
    "soup = bs4.BeautifulSoup(info.content, 'lxml')\n",
    "\n",
    "stories = soup.find_all(\"div\", {\"class\": \"item\"})\n",
    "\n",
    "for story in stories:\n",
    "    try:\n",
    "        story_id = story[\"class\"][1].split('-')[1]\n",
    "    except:\n",
    "        story_id = \"null\"\n",
    "    try:\n",
    "        story_link = story.find(\"a\")[\"href\"]\n",
    "    except:\n",
    "        story_link = \"null\"\n",
    "    try:\n",
    "        poster_image_link = story.find(\"img\")[\"src\"]\n",
    "    except:\n",
    "        poster_image_link = \"null\"\n",
    "    try:\n",
    "        story_name = story.find(\"img\")[\"alt\"]\n",
    "    except:\n",
    "        story_name = \"null\"\n",
    "\n",
    "    story_dict = {\n",
    "        \"id\": story_id,\n",
    "        \"story_link\": story_link,\n",
    "        \"poster_image_link\": poster_image_link,\n",
    "        \"story_name\": story_name,\n",
    "    }\n",
    "    total_stories.append(story_dict)\n",
    "\n",
    "print(len(total_stories))\n",
    "for story in total_stories:\n",
    "    print(story)"
   ]
  },
  {
   "cell_type": "markdown",
   "metadata": {},
   "source": [
    "**Store Data**\n"
   ]
  },
  {
   "cell_type": "code",
   "execution_count": 42,
   "metadata": {},
   "outputs": [
    {
     "name": "stdout",
     "output_type": "stream",
     "text": [
      "INFO:root:Start insert data into table comic_web_data\n",
      "\n",
      "        INSERT INTO comic_web_data (id,story_link,poster_image_link,story_name)\n",
      "        VALUES (1,'https://truyenmoi.org/truyen-bach-luyen-thanh-than','https://truyenmoi.org/images/thumb129/bach-luyen-thanh-than-1616536478.jpg','Bách Luyện Thành Thần'),(2,'https://truyenmoi.org/vu-luyen-dien-phong','https://truyenmoi.org/images/thumb129/vu-luyen-dien-phong-1616873103.jpg','Võ Luyện Đỉnh Phong'),(3,'https://truyenmoi.org/vo-than-chua-te','https://truyenmoi.org/images/thumb129/vo-than-chua-te-1616940080.jpg','Võ Thần Chúa Tể'),(4,'https://truyenmoi.org/vo-thuong-than-de','https://truyenmoi.org/images/thumb129/vo-thuong-than-de-1617174241.jpg','Vô Thượng Thần Đế'),(5,'https://truyenmoi.org/phong-than-chau','https://truyenmoi.org/images/thumb129/phong-than-chau-1626670616.jpg','Phong Thần Châu'),(6,'https://truyenmoi.org/cung-chieu-co-vo-quan-nhan-100058','https://truyenmoi.org/images/thumb129/cung-chieu-co-vo-quan-nhan-1620470550.jpg','Cưng Chiều Cô Vợ Quân Nhân'),(7,'https://truyenmoi.org/than-dao-de-ton','https://truyenmoi.org/images/thumb129/than-dao-de-ton-1644299522.jpg','Thần Đạo Đế Tôn'),(8,'https://truyenmoi.org/sieu-cap-cung-chieu-276256','https://truyenmoi.org/images/thumb129/sieu-cap-cung-chieu-1640439045.jpg','Siêu Cấp Cưng Chiều'),(9,'https://truyenmoi.org/nguoi-dau-yeu-429233','https://truyenmoi.org/images/thumb129/nguoi-dau-yeu-1629204095.jpg','Người Dấu Yêu Ơi'),(10,'https://truyenmoi.org/than-dao-dan-ton','https://truyenmoi.org/images/thumb129/than-dao-dan-ton-1615875254.jpg','Thần Đạo Đan Tôn'),(11,'https://truyenmoi.org/ta-de-trien-sung-than-y-cuu-tieu-thu','https://truyenmoi.org/images/thumb129/ta-de-trien-sung-than-y-cuu-tieu-thu-1638720760.jpg','Tà Đế Triền Sủng: Thần Y Cửu Tiểu Thư'),(12,'https://truyenmoi.org/van-co-than-de','https://truyenmoi.org/images/thumb129/van-co-than-de-1621637161.jpg','Vạn Cổ Thần Đế'),(13,'https://truyenmoi.org/con-duong-ba-chu','https://truyenmoi.org/images/thumb129/con-duong-ba-chu-1622509538.jpg','Con Đường Bá Chủ'),(14,'https://truyenmoi.org/tien-vo-de-ton','https://truyenmoi.org/images/thumb129/tien-vo-de-ton-1630726332.jpg','Tiên Võ Đế Tôn'),(15,'https://truyenmoi.org/toan-chuc-phap-su','https://truyenmoi.org/images/thumb129/toan-chuc-phap-su-1615398912.jpg','Toàn Chức Pháp Sư'),(16,'https://truyenmoi.org/linh-kiem-ton','https://truyenmoi.org/images/thumb129/linh-kiem-ton-1615397035.jpg','Linh Kiếm Tôn');\n",
      "    \n"
     ]
    }
   ],
   "source": [
    "def insert_database(connection, table_name, data_stories):\n",
    "    logger.info(f\"Start insert data into table {table_name}\")\n",
    "    list_field_name = [f'{field[\"field\"]}' for field in data_field] \n",
    "    result_field_name = ','.join(list_field_name)\n",
    "\n",
    "    data_insert = [f\"({item['id']},'{item['story_link']}','{item['poster_image_link']}','{item['story_name']}')\" for idx, item in enumerate(data_stories)]\n",
    "\n",
    "    result_insert = ','.join(data_insert)\n",
    "\n",
    "    sql_insert = f\"\"\"\n",
    "        INSERT INTO {table_name} ({result_field_name})\n",
    "        VALUES {result_insert};\n",
    "    \"\"\"\n",
    "    print(sql_insert)\n",
    "    cursor = connection.cursor()\n",
    "    cursor.execute(sql_insert)\n",
    "\n",
    "insert_database(connection, table_name, total_stories)"
   ]
  }
 ],
 "metadata": {
  "kernelspec": {
   "display_name": "DE",
   "language": "python",
   "name": "python3"
  },
  "language_info": {
   "codemirror_mode": {
    "name": "ipython",
    "version": 3
   },
   "file_extension": ".py",
   "mimetype": "text/x-python",
   "name": "python",
   "nbconvert_exporter": "python",
   "pygments_lexer": "ipython3",
   "version": "3.8.18"
  }
 },
 "nbformat": 4,
 "nbformat_minor": 2
}
